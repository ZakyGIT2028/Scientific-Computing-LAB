{
  "nbformat": 4,
  "nbformat_minor": 0,
  "metadata": {
    "colab": {
      "provenance": [],
      "gpuType": "T4",
      "authorship_tag": "ABX9TyPftaYre59knim8oYCNLEku",
      "include_colab_link": true
    },
    "kernelspec": {
      "name": "python3",
      "display_name": "Python 3"
    },
    "language_info": {
      "name": "python"
    },
    "accelerator": "GPU"
  },
  "cells": [
    {
      "cell_type": "markdown",
      "metadata": {
        "id": "view-in-github",
        "colab_type": "text"
      },
      "source": [
        "<a href=\"https://colab.research.google.com/github/ZakyGIT2028/Scientific-Computing-LAB/blob/main/SC_sesi1.ipynb\" target=\"_parent\"><img src=\"https://colab.research.google.com/assets/colab-badge.svg\" alt=\"Open In Colab\"/></a>"
      ]
    },
    {
      "cell_type": "code",
      "source": [
        "print(\"Hello World\")"
      ],
      "metadata": {
        "colab": {
          "base_uri": "https://localhost:8080/"
        },
        "id": "oUTs-tSGiwVb",
        "outputId": "74051024-038f-45ba-88f2-c006279a1188"
      },
      "execution_count": null,
      "outputs": [
        {
          "output_type": "stream",
          "name": "stdout",
          "text": [
            "Hello World\n"
          ]
        }
      ]
    },
    {
      "cell_type": "code",
      "source": [
        "import time"
      ],
      "metadata": {
        "id": "Vhk6QGRMjkEU"
      },
      "execution_count": null,
      "outputs": []
    },
    {
      "cell_type": "code",
      "source": [
        "print(time.ctime())"
      ],
      "metadata": {
        "colab": {
          "base_uri": "https://localhost:8080/"
        },
        "id": "Y-56YxRAj29y",
        "outputId": "dc983b41-536f-47fd-97ec-740575a869c7"
      },
      "execution_count": null,
      "outputs": [
        {
          "output_type": "stream",
          "name": "stdout",
          "text": [
            "Thu Feb  6 04:41:34 2025\n"
          ]
        }
      ]
    },
    {
      "cell_type": "code",
      "source": [
        "z= \"Hello\"\n",
        "y= 20\n",
        "c= 30.9\n",
        "f= [\"apple\", \"banana\"]\n",
        "\n",
        "\n",
        "print(z,y,c,f)"
      ],
      "metadata": {
        "colab": {
          "base_uri": "https://localhost:8080/"
        },
        "id": "wyzg4V_CkEQd",
        "outputId": "23897a1e-f84e-492f-eafa-7d8b1765e486"
      },
      "execution_count": null,
      "outputs": [
        {
          "output_type": "stream",
          "name": "stdout",
          "text": [
            "Hello 20 30.9 ['apple', 'banana']\n"
          ]
        }
      ]
    },
    {
      "cell_type": "code",
      "source": [
        "o= int(1)\n",
        "y= int(2.8)\n",
        "z= int(\"3\")\n",
        "j= str(20)\n",
        "\n",
        "print(o,y,z,j)"
      ],
      "metadata": {
        "colab": {
          "base_uri": "https://localhost:8080/"
        },
        "id": "kKhMZeT6kajC",
        "outputId": "7a9299da-3f4c-4eb4-fc6e-55cfc6e1f73f"
      },
      "execution_count": null,
      "outputs": [
        {
          "output_type": "stream",
          "name": "stdout",
          "text": [
            "1 2 3 20\n"
          ]
        }
      ]
    },
    {
      "cell_type": "code",
      "source": [
        "a= \"Hello\"\n",
        "b= \" World\"\n",
        "\n",
        "c= a+b\n",
        "\n",
        "print(c)"
      ],
      "metadata": {
        "colab": {
          "base_uri": "https://localhost:8080/"
        },
        "id": "FNR-KrdzlVjP",
        "outputId": "d167968c-1c57-4d37-8ccf-d9ab720f933d"
      },
      "execution_count": null,
      "outputs": [
        {
          "output_type": "stream",
          "name": "stdout",
          "text": [
            "Hello World\n"
          ]
        }
      ]
    },
    {
      "cell_type": "code",
      "source": [
        "a = \"Hello World\"\n",
        "print(a[1])\n",
        "\n",
        "print(len(a))"
      ],
      "metadata": {
        "colab": {
          "base_uri": "https://localhost:8080/"
        },
        "id": "tOmsuO8elwb1",
        "outputId": "ecfb3a39-50f8-4a2c-9619-2e27356e681c"
      },
      "execution_count": null,
      "outputs": [
        {
          "output_type": "stream",
          "name": "stdout",
          "text": [
            "e\n",
            "11\n"
          ]
        }
      ]
    },
    {
      "cell_type": "code",
      "source": [
        "#slicing\n",
        "\n",
        "b= \"BINUS Univ\"\n",
        "print(b[2:5])\n",
        "\n",
        "c= \"BINUS Univ\"\n",
        "print(c[2:])\n",
        "\n",
        "d= \"BINUS Univ\"\n",
        "print(c[:5])"
      ],
      "metadata": {
        "colab": {
          "base_uri": "https://localhost:8080/"
        },
        "id": "N5Pz0Pv_mBI3",
        "outputId": "e9baca71-451d-4db2-c088-ce53e937ad43"
      },
      "execution_count": null,
      "outputs": [
        {
          "output_type": "stream",
          "name": "stdout",
          "text": [
            "NUS\n",
            "NUS Univ\n",
            "BINUS\n"
          ]
        }
      ]
    },
    {
      "cell_type": "code",
      "source": [
        "a= \"Hello\"\n",
        "print(a.upper())\n",
        "\n",
        "b= \"World\"\n",
        "print(b.lower())\n",
        "\n",
        "c= \"Hello\"\n",
        "print(a.replace(\"H\", \"L\"))"
      ],
      "metadata": {
        "colab": {
          "base_uri": "https://localhost:8080/"
        },
        "id": "AeypDN2ynW22",
        "outputId": "8e71ba37-b07a-4a6b-bdcd-c2f62c4b8ca0"
      },
      "execution_count": null,
      "outputs": [
        {
          "output_type": "stream",
          "name": "stdout",
          "text": [
            "HELLO\n",
            "world\n",
            "Lello\n"
          ]
        }
      ]
    },
    {
      "cell_type": "code",
      "source": [
        "nama= \"sam\"\n",
        "x= 19\n",
        "nama= \"sam\"\n",
        "x= 19\n",
        "string= \"Nama saya {} umur {}\"\n",
        "\n",
        "print(string.format(nama, x))"
      ],
      "metadata": {
        "colab": {
          "base_uri": "https://localhost:8080/"
        },
        "id": "tA3D1xQXoMw1",
        "outputId": "c688a99a-99c9-45bb-ffaa-59b6d62936da"
      },
      "execution_count": null,
      "outputs": [
        {
          "output_type": "stream",
          "name": "stdout",
          "text": [
            "Nama saya sam umur 19\n"
          ]
        }
      ]
    },
    {
      "cell_type": "code",
      "source": [
        "nama= \"Grace\"\n",
        "\n",
        "for i in enumerate(nama):\n",
        "  print(i)"
      ],
      "metadata": {
        "colab": {
          "base_uri": "https://localhost:8080/"
        },
        "id": "TmMo3FRFopzl",
        "outputId": "4102244e-f787-4824-c5d1-e2ad6b285f86"
      },
      "execution_count": null,
      "outputs": [
        {
          "output_type": "stream",
          "name": "stdout",
          "text": [
            "(0, 'G')\n",
            "(1, 'r')\n",
            "(2, 'a')\n",
            "(3, 'c')\n",
            "(4, 'e')\n"
          ]
        }
      ]
    },
    {
      "cell_type": "code",
      "source": [
        "def perbandingan(a,b):\n",
        "  if a>b:\n",
        "    print(\"a lebih dari b\")\n",
        "  elif a<b:\n",
        "    print(\"a kurang dari b\")\n",
        "  else:\n",
        "    print(\"a=b\")"
      ],
      "metadata": {
        "id": "yRH2sLqkpfSZ"
      },
      "execution_count": null,
      "outputs": []
    },
    {
      "cell_type": "code",
      "source": [
        "perbandingan(4,5)"
      ],
      "metadata": {
        "colab": {
          "base_uri": "https://localhost:8080/"
        },
        "id": "F8u_wMUfqBtV",
        "outputId": "c39e0521-edc0-4b83-fee7-56d369c40f98"
      },
      "execution_count": null,
      "outputs": [
        {
          "output_type": "stream",
          "name": "stdout",
          "text": [
            "a kurang dari b\n"
          ]
        }
      ]
    },
    {
      "cell_type": "code",
      "source": [
        "i=1\n",
        "while i<6:\n",
        "  print(i)\n",
        "  i +=1"
      ],
      "metadata": {
        "colab": {
          "base_uri": "https://localhost:8080/"
        },
        "id": "qyrL_70SqnSb",
        "outputId": "88c2a6e3-bfeb-49b2-e3e9-fb6a7192ce70"
      },
      "execution_count": null,
      "outputs": [
        {
          "output_type": "stream",
          "name": "stdout",
          "text": [
            "1\n",
            "2\n",
            "3\n",
            "4\n",
            "5\n"
          ]
        }
      ]
    },
    {
      "cell_type": "code",
      "source": [
        "i=3\n",
        "for i in range(0,6):\n",
        "  print(i)"
      ],
      "metadata": {
        "colab": {
          "base_uri": "https://localhost:8080/"
        },
        "id": "m0iUf5TGq-bQ",
        "outputId": "2a937cbc-e609-40f8-85a6-4a6689f0996b"
      },
      "execution_count": null,
      "outputs": [
        {
          "output_type": "stream",
          "name": "stdout",
          "text": [
            "0\n",
            "1\n",
            "2\n",
            "3\n",
            "4\n",
            "5\n"
          ]
        }
      ]
    },
    {
      "cell_type": "code",
      "source": [
        "i=1\n",
        "for i in range(2,6):\n",
        "  print(i)"
      ],
      "metadata": {
        "colab": {
          "base_uri": "https://localhost:8080/"
        },
        "id": "zkvShCHorb1f",
        "outputId": "cf6e32fd-7758-401e-f6d8-41b8a6429868"
      },
      "execution_count": null,
      "outputs": [
        {
          "output_type": "stream",
          "name": "stdout",
          "text": [
            "2\n",
            "3\n",
            "4\n",
            "5\n"
          ]
        }
      ]
    },
    {
      "cell_type": "code",
      "source": [
        "\n",
        "i=1\n",
        "for i in range(2,41):\n",
        "  if i%2:\n",
        "    print(i, \"ganjil\")\n",
        "  else:\n",
        "    print(i, \"genap\")"
      ],
      "metadata": {
        "colab": {
          "base_uri": "https://localhost:8080/"
        },
        "id": "WP1B2PIWsX8g",
        "outputId": "bcad2153-a738-452c-973a-96f05d34a79d"
      },
      "execution_count": null,
      "outputs": [
        {
          "output_type": "stream",
          "name": "stdout",
          "text": [
            "2 genap\n",
            "3 ganjil\n",
            "4 genap\n",
            "5 ganjil\n",
            "6 genap\n",
            "7 ganjil\n",
            "8 genap\n",
            "9 ganjil\n",
            "10 genap\n",
            "11 ganjil\n",
            "12 genap\n",
            "13 ganjil\n",
            "14 genap\n",
            "15 ganjil\n",
            "16 genap\n",
            "17 ganjil\n",
            "18 genap\n",
            "19 ganjil\n",
            "20 genap\n",
            "21 ganjil\n",
            "22 genap\n",
            "23 ganjil\n",
            "24 genap\n",
            "25 ganjil\n",
            "26 genap\n",
            "27 ganjil\n",
            "28 genap\n",
            "29 ganjil\n",
            "30 genap\n",
            "31 ganjil\n",
            "32 genap\n",
            "33 ganjil\n",
            "34 genap\n",
            "35 ganjil\n",
            "36 genap\n",
            "37 ganjil\n",
            "38 genap\n",
            "39 ganjil\n",
            "40 genap\n"
          ]
        }
      ]
    },
    {
      "cell_type": "code",
      "source": [
        "import numpy as np\n",
        "x = np.array([[1, 2, 3], [3, 6, 7]])\n",
        "x"
      ],
      "metadata": {
        "colab": {
          "base_uri": "https://localhost:8080/"
        },
        "id": "bxsXrbvcuBCQ",
        "outputId": "57c1d1dd-a99c-4fcb-eb7b-fa73141714b1"
      },
      "execution_count": null,
      "outputs": [
        {
          "output_type": "execute_result",
          "data": {
            "text/plain": [
              "array([[1, 2, 3],\n",
              "       [3, 6, 7]])"
            ]
          },
          "metadata": {},
          "execution_count": 30
        }
      ]
    },
    {
      "cell_type": "code",
      "source": [
        "import numpy as np\n",
        "\n",
        "y = np.array([1, 2, 3])\n",
        "y"
      ],
      "metadata": {
        "colab": {
          "base_uri": "https://localhost:8080/"
        },
        "id": "0JnI__Vzvw8V",
        "outputId": "6c5b2a37-f83a-4800-d581-ff6585a626b0"
      },
      "execution_count": null,
      "outputs": [
        {
          "output_type": "execute_result",
          "data": {
            "text/plain": [
              "array([1, 2, 3])"
            ]
          },
          "metadata": {},
          "execution_count": 31
        }
      ]
    },
    {
      "cell_type": "code",
      "source": [
        "print(x+y)"
      ],
      "metadata": {
        "colab": {
          "base_uri": "https://localhost:8080/"
        },
        "id": "MHwMdwfhv8Hs",
        "outputId": "28f04dde-8b41-4225-99fc-22f114a8bed6"
      },
      "execution_count": null,
      "outputs": [
        {
          "output_type": "stream",
          "name": "stdout",
          "text": [
            "[[ 2  4  6]\n",
            " [ 4  8 10]]\n"
          ]
        }
      ]
    },
    {
      "cell_type": "code",
      "source": [
        "import numpy as np\n",
        "\n",
        "data = np.array([[10,9,8,7,6,5]])\n",
        "\n",
        "print(\"Rata-rata:\", np.mean(data))\n",
        "print(\"Median:\", np.median(data))\n",
        "print(\"Standar Deviasi:\", np.std(data))\n",
        "import numpy as np\n",
        "\n",
        "data = np.array([[10,9,8,7,6,5]])\n",
        "\n",
        "print(\"Rata-rata:\", np.mean(data))\n",
        "print(\"Median:\", np.median(data))\n",
        "print(\"Standar Deviasi:\", np.std(data))\n",
        "print(\"Maksimus:\", np.max(data))\n",
        "print(\"Minimun:\", np.min(data))\n",
        "print(\"Maksimus:\", np.max(data))\n",
        "print(\"Minimun:\", np.min(data))"
      ],
      "metadata": {
        "colab": {
          "base_uri": "https://localhost:8080/"
        },
        "id": "1h6Wlbw6wAKI",
        "outputId": "a7ecdba3-b8d0-4198-9527-3a44a78377ae"
      },
      "execution_count": null,
      "outputs": [
        {
          "output_type": "stream",
          "name": "stdout",
          "text": [
            "Rata-rata: 7.5\n",
            "Median: 7.5\n",
            "Standar Deviasi: 1.707825127659933\n",
            "Rata-rata: 7.5\n",
            "Median: 7.5\n",
            "Standar Deviasi: 1.707825127659933\n",
            "Maksimus: 10\n",
            "Minimun: 5\n",
            "Maksimus: 10\n",
            "Minimun: 5\n"
          ]
        }
      ]
    },
    {
      "cell_type": "code",
      "source": [
        "def calculate(uas, uts, asg):\n",
        "    return 0.5 * uas + 0.3 * uts + 0.2 * asg\n",
        "\n",
        "def grading(total):\n",
        "    if total >= 85:\n",
        "        return 'A'\n",
        "    elif total >= 80:\n",
        "        return 'A-'\n",
        "    elif total >= 75:\n",
        "        return 'B+'\n",
        "    elif total >= 70:\n",
        "        return 'B'\n",
        "    elif total >= 65:\n",
        "        return 'B-'\n",
        "    elif total >= 60:\n",
        "        return 'C'\n",
        "    elif total >= 55:\n",
        "        return 'D'\n",
        "    elif total >= 11:\n",
        "        return 'E'\n",
        "    else:\n",
        "        return 'F'\n",
        "\n",
        "def get_valid_score(prompt):\n",
        "    while True:\n",
        "        try:\n",
        "            value = float(input(prompt))\n",
        "            if 0 <= value <= 100:\n",
        "                return value\n",
        "            else:\n",
        "                print(\"Nilai harus antara 0 dan 100. Coba lagi.\")\n",
        "        except ValueError:\n",
        "            print(\"Input tidak valid. Masukkan angka desimal.\")\n",
        "\n",
        "\n",
        "username = input(\"Masukkan username anda : \")\n",
        "while True:\n",
        "    password = input(\"Masukkan password anda : \")\n",
        "    if password == \"Admin123\":\n",
        "        print(f\"Login Berhasil, Selamat datang {username}\")\n",
        "        break\n",
        "    else:\n",
        "        print(\"Password salah. Coba lagi.\")\n",
        "\n",
        "\n",
        "nama = input(\"Masukkan nama siswa : \")\n",
        "uas = get_valid_score(\"Masukkan Nilai UAS : \")\n",
        "uts = get_valid_score(\"Masukkan Nilai UTS : \")\n",
        "asg = get_valid_score(\"Masukkan Nilai Assignment : \")\n",
        "\n",
        "nilai_akhir = calculate(uas, uts, asg)\n",
        "grade = grading(nilai_akhir)\n",
        "\n",
        "\n",
        "print(\"\\n===========================\")\n",
        "print(f\"Hasil perolehan nilai {nama}\")\n",
        "print(f\"Final Score: {nilai_akhir:.1f}\")\n",
        "print(f\"Grade: {grade}\")\n",
        "print(\"===========================\")"
      ],
      "metadata": {
        "colab": {
          "base_uri": "https://localhost:8080/"
        },
        "id": "iPWrQtc8FW8i",
        "outputId": "932380f3-c25c-4040-e279-867de09eabb2"
      },
      "execution_count": 6,
      "outputs": [
        {
          "output_type": "stream",
          "name": "stdout",
          "text": [
            "Masukkan username anda : Kirin\n",
            "Masukkan password anda : Admin123\n",
            "Login Berhasil, Selamat datang Kirin\n",
            "Masukkan nama siswa : K\n",
            "Masukkan Nilai UAS : 50\n",
            "Masukkan Nilai UTS : 50\n",
            "Masukkan Nilai Assignment : 50\n",
            "\n",
            "===========================\n",
            "Hasil perolehan nilai K\n",
            "Final Score: 50.0\n",
            "Grade: E\n",
            "===========================\n"
          ]
        }
      ]
    }
  ]
}